{
 "cells": [
  {
   "cell_type": "code",
   "execution_count": 29,
   "id": "37f27cf4-aac9-4a82-b900-76c9d05dcf92",
   "metadata": {},
   "outputs": [
    {
     "data": {
      "text/html": [
       "<div>\n",
       "<style scoped>\n",
       "    .dataframe tbody tr th:only-of-type {\n",
       "        vertical-align: middle;\n",
       "    }\n",
       "\n",
       "    .dataframe tbody tr th {\n",
       "        vertical-align: top;\n",
       "    }\n",
       "\n",
       "    .dataframe thead th {\n",
       "        text-align: right;\n",
       "    }\n",
       "</style>\n",
       "<table border=\"1\" class=\"dataframe\">\n",
       "  <thead>\n",
       "    <tr style=\"text-align: right;\">\n",
       "      <th></th>\n",
       "      <th>name</th>\n",
       "      <th>platform</th>\n",
       "      <th>release_date</th>\n",
       "      <th>summary</th>\n",
       "      <th>metascore</th>\n",
       "      <th>userscore</th>\n",
       "    </tr>\n",
       "  </thead>\n",
       "  <tbody>\n",
       "    <tr>\n",
       "      <th>0</th>\n",
       "      <td>! SPACE ACCIDENT !</td>\n",
       "      <td>PC</td>\n",
       "      <td>February 10, 2022</td>\n",
       "      <td>The year is 2119. A turning point has begun in...</td>\n",
       "      <td>tbd</td>\n",
       "      <td>tbd</td>\n",
       "    </tr>\n",
       "    <tr>\n",
       "      <th>1</th>\n",
       "      <td>! That Bastard Is Trying To Steal Our Gold !</td>\n",
       "      <td>PC</td>\n",
       "      <td>May 11, 2014</td>\n",
       "      <td>It's a fun puzzle game where you need to steal...</td>\n",
       "      <td>tbd</td>\n",
       "      <td>3.4</td>\n",
       "    </tr>\n",
       "    <tr>\n",
       "      <th>2</th>\n",
       "      <td>!4RC4N01D!</td>\n",
       "      <td>PC</td>\n",
       "      <td>January 12, 2018</td>\n",
       "      <td>Hardcore arkanoid in the spirit of old games f...</td>\n",
       "      <td>tbd</td>\n",
       "      <td>4.0</td>\n",
       "    </tr>\n",
       "    <tr>\n",
       "      <th>3</th>\n",
       "      <td>!4RC4N01D! 2: Retro Edition</td>\n",
       "      <td>PC</td>\n",
       "      <td>February 6, 2018</td>\n",
       "      <td>Everyone dreams of returning 2007, but no one ...</td>\n",
       "      <td>tbd</td>\n",
       "      <td>3.8</td>\n",
       "    </tr>\n",
       "    <tr>\n",
       "      <th>4</th>\n",
       "      <td>!4RC4N01D! 3: Cold Space</td>\n",
       "      <td>PC</td>\n",
       "      <td>March 8, 2018</td>\n",
       "      <td>!4RC4N01D! returns! This time we have an accid...</td>\n",
       "      <td>tbd</td>\n",
       "      <td>3.0</td>\n",
       "    </tr>\n",
       "  </tbody>\n",
       "</table>\n",
       "</div>"
      ],
      "text/plain": [
       "                                           name platform       release_date  \\\n",
       "0                            ! SPACE ACCIDENT !       PC  February 10, 2022   \n",
       "1  ! That Bastard Is Trying To Steal Our Gold !       PC       May 11, 2014   \n",
       "2                                    !4RC4N01D!       PC   January 12, 2018   \n",
       "3                   !4RC4N01D! 2: Retro Edition       PC   February 6, 2018   \n",
       "4                      !4RC4N01D! 3: Cold Space       PC      March 8, 2018   \n",
       "\n",
       "                                             summary metascore userscore  \n",
       "0  The year is 2119. A turning point has begun in...       tbd       tbd  \n",
       "1  It's a fun puzzle game where you need to steal...       tbd       3.4  \n",
       "2  Hardcore arkanoid in the spirit of old games f...       tbd       4.0  \n",
       "3  Everyone dreams of returning 2007, but no one ...       tbd       3.8  \n",
       "4  !4RC4N01D! returns! This time we have an accid...       tbd       3.0  "
      ]
     },
     "execution_count": 29,
     "metadata": {},
     "output_type": "execute_result"
    }
   ],
   "source": [
    "import pandas as pd\n",
    "import matplotlib.pyplot as plt\n",
    "import seaborn as sns\n",
    "# load dataset\n",
    "df = pd.read_csv(\"games.csv\")\n",
    "\n",
    "# check the first rows\n",
    "df.head()"
   ]
  },
  {
   "cell_type": "code",
   "execution_count": 30,
   "id": "995686e5-4b17-476c-90ed-7dad1bbb9b74",
   "metadata": {},
   "outputs": [
    {
     "data": {
      "text/html": [
       "<div>\n",
       "<style scoped>\n",
       "    .dataframe tbody tr th:only-of-type {\n",
       "        vertical-align: middle;\n",
       "    }\n",
       "\n",
       "    .dataframe tbody tr th {\n",
       "        vertical-align: top;\n",
       "    }\n",
       "\n",
       "    .dataframe thead th {\n",
       "        text-align: right;\n",
       "    }\n",
       "</style>\n",
       "<table border=\"1\" class=\"dataframe\">\n",
       "  <thead>\n",
       "    <tr style=\"text-align: right;\">\n",
       "      <th></th>\n",
       "      <th>name</th>\n",
       "      <th>platform</th>\n",
       "      <th>release_date</th>\n",
       "      <th>summary</th>\n",
       "      <th>metascore</th>\n",
       "      <th>userscore</th>\n",
       "    </tr>\n",
       "  </thead>\n",
       "  <tbody>\n",
       "    <tr>\n",
       "      <th>142412</th>\n",
       "      <td>{Undefined}</td>\n",
       "      <td>PC</td>\n",
       "      <td>August 20, 2021</td>\n",
       "      <td>A sandbox survival game, set on life-sized vox...</td>\n",
       "      <td>tbd</td>\n",
       "      <td>tbd</td>\n",
       "    </tr>\n",
       "    <tr>\n",
       "      <th>142413</th>\n",
       "      <td>~ Daydream ~</td>\n",
       "      <td>PC</td>\n",
       "      <td>May 26, 2022</td>\n",
       "      <td>~Daydream~is an action 2D platform jumping gam...</td>\n",
       "      <td>tbd</td>\n",
       "      <td>tbd</td>\n",
       "    </tr>\n",
       "    <tr>\n",
       "      <th>142414</th>\n",
       "      <td>~Azur Ring~virgin and slave's phylacteries</td>\n",
       "      <td>PC</td>\n",
       "      <td>July 17, 2020</td>\n",
       "      <td>New DIABLO-Like adventure game. Legendary gear...</td>\n",
       "      <td>tbd</td>\n",
       "      <td>tbd</td>\n",
       "    </tr>\n",
       "    <tr>\n",
       "      <th>142415</th>\n",
       "      <td>~Gigantify~</td>\n",
       "      <td>PC</td>\n",
       "      <td>January 23, 2022</td>\n",
       "      <td>This is a small Puzzle Platformer where you dy...</td>\n",
       "      <td>tbd</td>\n",
       "      <td>tbd</td>\n",
       "    </tr>\n",
       "    <tr>\n",
       "      <th>142416</th>\n",
       "      <td>~necromancy~Emily's Escape</td>\n",
       "      <td>PC</td>\n",
       "      <td>December 21, 2018</td>\n",
       "      <td>The necromancer employs forbidden spells and p...</td>\n",
       "      <td>tbd</td>\n",
       "      <td>tbd</td>\n",
       "    </tr>\n",
       "  </tbody>\n",
       "</table>\n",
       "</div>"
      ],
      "text/plain": [
       "                                              name platform  \\\n",
       "142412                                 {Undefined}       PC   \n",
       "142413                                ~ Daydream ~       PC   \n",
       "142414  ~Azur Ring~virgin and slave's phylacteries       PC   \n",
       "142415                                 ~Gigantify~       PC   \n",
       "142416                  ~necromancy~Emily's Escape       PC   \n",
       "\n",
       "             release_date                                            summary  \\\n",
       "142412    August 20, 2021  A sandbox survival game, set on life-sized vox...   \n",
       "142413       May 26, 2022  ~Daydream~is an action 2D platform jumping gam...   \n",
       "142414      July 17, 2020  New DIABLO-Like adventure game. Legendary gear...   \n",
       "142415   January 23, 2022  This is a small Puzzle Platformer where you dy...   \n",
       "142416  December 21, 2018  The necromancer employs forbidden spells and p...   \n",
       "\n",
       "       metascore userscore  \n",
       "142412       tbd       tbd  \n",
       "142413       tbd       tbd  \n",
       "142414       tbd       tbd  \n",
       "142415       tbd       tbd  \n",
       "142416       tbd       tbd  "
      ]
     },
     "execution_count": 30,
     "metadata": {},
     "output_type": "execute_result"
    }
   ],
   "source": [
    "df.tail()"
   ]
  },
  {
   "cell_type": "code",
   "execution_count": 33,
   "id": "ca2de0c3-6358-4c9f-a939-96150c20772a",
   "metadata": {},
   "outputs": [
    {
     "data": {
      "text/plain": [
       "(142417, 6)"
      ]
     },
     "execution_count": 33,
     "metadata": {},
     "output_type": "execute_result"
    }
   ],
   "source": [
    "df.shape"
   ]
  },
  {
   "cell_type": "code",
   "execution_count": 35,
   "id": "030ac741-b661-4cb4-9292-45fb5030283f",
   "metadata": {},
   "outputs": [],
   "source": [
    "# Replace 'tbd' with NaN in 'metascore' and 'userscore'\n",
    "df['metascore'] = df['metascore'].replace('tbd', pd.NA)\n",
    "df['userscore'] = df['userscore'].replace('tbd', pd.NA)"
   ]
  },
  {
   "cell_type": "code",
   "execution_count": 37,
   "id": "9e102e13-ffc7-4d54-a984-7b7551d75af4",
   "metadata": {},
   "outputs": [],
   "source": [
    "# Converting release_date column to datetime format\n",
    "df['release_date'] = pd.to_datetime(df['release_date'], format='%B %d, %Y')"
   ]
  },
  {
   "cell_type": "code",
   "execution_count": 39,
   "id": "4689b7ab-62d2-4373-9320-662d41d9e515",
   "metadata": {},
   "outputs": [
    {
     "data": {
      "text/plain": [
       "7"
      ]
     },
     "execution_count": 39,
     "metadata": {},
     "output_type": "execute_result"
    }
   ],
   "source": [
    "#check for duplicates\n",
    "df.duplicated().sum()"
   ]
  },
  {
   "cell_type": "code",
   "execution_count": 41,
   "id": "b2f8bb31-f5c4-4862-9d48-43ecfce30468",
   "metadata": {},
   "outputs": [
    {
     "data": {
      "text/html": [
       "<div>\n",
       "<style scoped>\n",
       "    .dataframe tbody tr th:only-of-type {\n",
       "        vertical-align: middle;\n",
       "    }\n",
       "\n",
       "    .dataframe tbody tr th {\n",
       "        vertical-align: top;\n",
       "    }\n",
       "\n",
       "    .dataframe thead th {\n",
       "        text-align: right;\n",
       "    }\n",
       "</style>\n",
       "<table border=\"1\" class=\"dataframe\">\n",
       "  <thead>\n",
       "    <tr style=\"text-align: right;\">\n",
       "      <th></th>\n",
       "      <th>name</th>\n",
       "      <th>platform</th>\n",
       "      <th>release_date</th>\n",
       "      <th>summary</th>\n",
       "      <th>metascore</th>\n",
       "      <th>userscore</th>\n",
       "    </tr>\n",
       "  </thead>\n",
       "  <tbody>\n",
       "    <tr>\n",
       "      <th>4525</th>\n",
       "      <td>Aikagi</td>\n",
       "      <td>PC</td>\n",
       "      <td>2021-11-17</td>\n",
       "      <td>During the last winter of his student days, Su...</td>\n",
       "      <td>&lt;NA&gt;</td>\n",
       "      <td>&lt;NA&gt;</td>\n",
       "    </tr>\n",
       "    <tr>\n",
       "      <th>4526</th>\n",
       "      <td>Aikagi</td>\n",
       "      <td>PC</td>\n",
       "      <td>2021-11-17</td>\n",
       "      <td>During the last winter of his student days, Su...</td>\n",
       "      <td>&lt;NA&gt;</td>\n",
       "      <td>&lt;NA&gt;</td>\n",
       "    </tr>\n",
       "    <tr>\n",
       "      <th>11044</th>\n",
       "      <td>BOT.vinnik Chess: Winning Patterns</td>\n",
       "      <td>PC</td>\n",
       "      <td>2020-09-30</td>\n",
       "      <td>The players submitted to my training showed si...</td>\n",
       "      <td>&lt;NA&gt;</td>\n",
       "      <td>&lt;NA&gt;</td>\n",
       "    </tr>\n",
       "    <tr>\n",
       "      <th>11045</th>\n",
       "      <td>BOT.vinnik Chess: Winning Patterns</td>\n",
       "      <td>PC</td>\n",
       "      <td>2020-09-30</td>\n",
       "      <td>The players submitted to my training showed si...</td>\n",
       "      <td>&lt;NA&gt;</td>\n",
       "      <td>&lt;NA&gt;</td>\n",
       "    </tr>\n",
       "    <tr>\n",
       "      <th>14698</th>\n",
       "      <td>Bit.Trip Core</td>\n",
       "      <td>PC</td>\n",
       "      <td>2012-10-02</td>\n",
       "      <td>Bit.Trip Core continues the Bit.Trip saga in t...</td>\n",
       "      <td>&lt;NA&gt;</td>\n",
       "      <td>&lt;NA&gt;</td>\n",
       "    </tr>\n",
       "    <tr>\n",
       "      <th>14699</th>\n",
       "      <td>Bit.Trip Core</td>\n",
       "      <td>PC</td>\n",
       "      <td>2012-10-02</td>\n",
       "      <td>Bit.Trip Core continues the Bit.Trip saga in t...</td>\n",
       "      <td>&lt;NA&gt;</td>\n",
       "      <td>&lt;NA&gt;</td>\n",
       "    </tr>\n",
       "    <tr>\n",
       "      <th>23035</th>\n",
       "      <td>Ciconia When They Cry - Phase 1: For You, the ...</td>\n",
       "      <td>PC</td>\n",
       "      <td>2019-10-03</td>\n",
       "      <td>This is the first chapter in newest entry When...</td>\n",
       "      <td>&lt;NA&gt;</td>\n",
       "      <td>&lt;NA&gt;</td>\n",
       "    </tr>\n",
       "    <tr>\n",
       "      <th>23036</th>\n",
       "      <td>Ciconia When They Cry - Phase 1: For You, the ...</td>\n",
       "      <td>PC</td>\n",
       "      <td>2019-10-03</td>\n",
       "      <td>This is the first chapter in newest entry When...</td>\n",
       "      <td>&lt;NA&gt;</td>\n",
       "      <td>&lt;NA&gt;</td>\n",
       "    </tr>\n",
       "    <tr>\n",
       "      <th>62565</th>\n",
       "      <td>Journey's End: Realms of High Adventure</td>\n",
       "      <td>PC</td>\n",
       "      <td>2001-01-25</td>\n",
       "      <td>NaN</td>\n",
       "      <td>&lt;NA&gt;</td>\n",
       "      <td>&lt;NA&gt;</td>\n",
       "    </tr>\n",
       "    <tr>\n",
       "      <th>62566</th>\n",
       "      <td>Journey's End: Realms of High Adventure</td>\n",
       "      <td>PC</td>\n",
       "      <td>2001-01-25</td>\n",
       "      <td>NaN</td>\n",
       "      <td>&lt;NA&gt;</td>\n",
       "      <td>&lt;NA&gt;</td>\n",
       "    </tr>\n",
       "    <tr>\n",
       "      <th>65190</th>\n",
       "      <td>Knock 'Em Down! Bowling</td>\n",
       "      <td>Switch</td>\n",
       "      <td>2019-01-10</td>\n",
       "      <td>NaN</td>\n",
       "      <td>&lt;NA&gt;</td>\n",
       "      <td>&lt;NA&gt;</td>\n",
       "    </tr>\n",
       "    <tr>\n",
       "      <th>65191</th>\n",
       "      <td>Knock 'Em Down! Bowling</td>\n",
       "      <td>Switch</td>\n",
       "      <td>2019-01-10</td>\n",
       "      <td>NaN</td>\n",
       "      <td>&lt;NA&gt;</td>\n",
       "      <td>&lt;NA&gt;</td>\n",
       "    </tr>\n",
       "    <tr>\n",
       "      <th>67764</th>\n",
       "      <td>Lethis - Daring Discoverers</td>\n",
       "      <td>PC</td>\n",
       "      <td>2017-06-08</td>\n",
       "      <td>NaN</td>\n",
       "      <td>&lt;NA&gt;</td>\n",
       "      <td>&lt;NA&gt;</td>\n",
       "    </tr>\n",
       "    <tr>\n",
       "      <th>67765</th>\n",
       "      <td>Lethis - Daring Discoverers</td>\n",
       "      <td>PC</td>\n",
       "      <td>2017-06-08</td>\n",
       "      <td>NaN</td>\n",
       "      <td>&lt;NA&gt;</td>\n",
       "      <td>&lt;NA&gt;</td>\n",
       "    </tr>\n",
       "  </tbody>\n",
       "</table>\n",
       "</div>"
      ],
      "text/plain": [
       "                                                    name platform  \\\n",
       "4525                                              Aikagi       PC   \n",
       "4526                                              Aikagi       PC   \n",
       "11044                 BOT.vinnik Chess: Winning Patterns       PC   \n",
       "11045                 BOT.vinnik Chess: Winning Patterns       PC   \n",
       "14698                                      Bit.Trip Core       PC   \n",
       "14699                                      Bit.Trip Core       PC   \n",
       "23035  Ciconia When They Cry - Phase 1: For You, the ...       PC   \n",
       "23036  Ciconia When They Cry - Phase 1: For You, the ...       PC   \n",
       "62565            Journey's End: Realms of High Adventure       PC   \n",
       "62566            Journey's End: Realms of High Adventure       PC   \n",
       "65190                            Knock 'Em Down! Bowling   Switch   \n",
       "65191                            Knock 'Em Down! Bowling   Switch   \n",
       "67764                        Lethis - Daring Discoverers       PC   \n",
       "67765                        Lethis - Daring Discoverers       PC   \n",
       "\n",
       "      release_date                                            summary  \\\n",
       "4525    2021-11-17  During the last winter of his student days, Su...   \n",
       "4526    2021-11-17  During the last winter of his student days, Su...   \n",
       "11044   2020-09-30  The players submitted to my training showed si...   \n",
       "11045   2020-09-30  The players submitted to my training showed si...   \n",
       "14698   2012-10-02  Bit.Trip Core continues the Bit.Trip saga in t...   \n",
       "14699   2012-10-02  Bit.Trip Core continues the Bit.Trip saga in t...   \n",
       "23035   2019-10-03  This is the first chapter in newest entry When...   \n",
       "23036   2019-10-03  This is the first chapter in newest entry When...   \n",
       "62565   2001-01-25                                                NaN   \n",
       "62566   2001-01-25                                                NaN   \n",
       "65190   2019-01-10                                                NaN   \n",
       "65191   2019-01-10                                                NaN   \n",
       "67764   2017-06-08                                                NaN   \n",
       "67765   2017-06-08                                                NaN   \n",
       "\n",
       "      metascore userscore  \n",
       "4525       <NA>      <NA>  \n",
       "4526       <NA>      <NA>  \n",
       "11044      <NA>      <NA>  \n",
       "11045      <NA>      <NA>  \n",
       "14698      <NA>      <NA>  \n",
       "14699      <NA>      <NA>  \n",
       "23035      <NA>      <NA>  \n",
       "23036      <NA>      <NA>  \n",
       "62565      <NA>      <NA>  \n",
       "62566      <NA>      <NA>  \n",
       "65190      <NA>      <NA>  \n",
       "65191      <NA>      <NA>  \n",
       "67764      <NA>      <NA>  \n",
       "67765      <NA>      <NA>  "
      ]
     },
     "execution_count": 41,
     "metadata": {},
     "output_type": "execute_result"
    }
   ],
   "source": [
    "#Confirming duplicates\n",
    "df[df.duplicated(keep=False)]"
   ]
  },
  {
   "cell_type": "code",
   "execution_count": 43,
   "id": "7fd2395a-79c4-4356-9c84-3a86ef1ebd18",
   "metadata": {},
   "outputs": [],
   "source": [
    "#Handling the duplicates\n",
    "df = df.drop_duplicates()"
   ]
  },
  {
   "cell_type": "code",
   "execution_count": 45,
   "id": "11597795-d43b-46a1-8879-ea7fb187cbd1",
   "metadata": {},
   "outputs": [
    {
     "data": {
      "text/plain": [
       "0"
      ]
     },
     "execution_count": 45,
     "metadata": {},
     "output_type": "execute_result"
    }
   ],
   "source": [
    "#Double checking duplicates\n",
    "df.duplicated().sum()"
   ]
  },
  {
   "cell_type": "code",
   "execution_count": 47,
   "id": "0810765d-0955-459a-98d8-7e3962b50a28",
   "metadata": {},
   "outputs": [],
   "source": [
    "#Converting columns to numeric\n",
    "df['metascore'] = pd.to_numeric(df['metascore'], errors='coerce')\n",
    "df['userscore'] = pd.to_numeric(df['userscore'], errors='coerce')"
   ]
  },
  {
   "cell_type": "code",
   "execution_count": 51,
   "id": "af6c28c7-d892-40a9-9e4a-8928960b77c5",
   "metadata": {},
   "outputs": [
    {
     "data": {
      "text/plain": [
       "name                 0\n",
       "platform             0\n",
       "release_date         0\n",
       "summary          17712\n",
       "metascore       112148\n",
       "userscore       105979\n",
       "dtype: int64"
      ]
     },
     "execution_count": 51,
     "metadata": {},
     "output_type": "execute_result"
    }
   ],
   "source": [
    "#Checking for missing values\n",
    "df.isnull().sum()"
   ]
  },
  {
   "cell_type": "code",
   "execution_count": 53,
   "id": "d32f3183-3254-4c80-b851-5e248e10b05f",
   "metadata": {},
   "outputs": [],
   "source": [
    "#filling missing values in summary\n",
    "df['summary'] = df['summary'].fillna('Unknown')"
   ]
  },
  {
   "cell_type": "code",
   "execution_count": 55,
   "id": "8323a3ed-701b-4148-9cd6-c1e75c0a3095",
   "metadata": {},
   "outputs": [],
   "source": [
    "#filling missing values on metascore and userscore using the mean\n",
    "df['metascore'] = df['metascore'].fillna(df['metascore'].mean())\n",
    "df['userscore'] = df['userscore'].fillna(df['userscore'].mean())"
   ]
  },
  {
   "cell_type": "code",
   "execution_count": 59,
   "id": "755645f4-1d02-41aa-853c-98c2fa75d4e9",
   "metadata": {},
   "outputs": [
    {
     "data": {
      "text/plain": [
       "name            0\n",
       "platform        0\n",
       "release_date    0\n",
       "summary         0\n",
       "metascore       0\n",
       "userscore       0\n",
       "dtype: int64"
      ]
     },
     "execution_count": 59,
     "metadata": {},
     "output_type": "execute_result"
    }
   ],
   "source": [
    "#Checking the clean data\n",
    "df.isnull().sum()"
   ]
  },
  {
   "cell_type": "code",
   "execution_count": 61,
   "id": "65323d09-f9d8-491a-a96b-d68c2983b60c",
   "metadata": {},
   "outputs": [
    {
     "data": {
      "text/html": [
       "<div>\n",
       "<style scoped>\n",
       "    .dataframe tbody tr th:only-of-type {\n",
       "        vertical-align: middle;\n",
       "    }\n",
       "\n",
       "    .dataframe tbody tr th {\n",
       "        vertical-align: top;\n",
       "    }\n",
       "\n",
       "    .dataframe thead th {\n",
       "        text-align: right;\n",
       "    }\n",
       "</style>\n",
       "<table border=\"1\" class=\"dataframe\">\n",
       "  <thead>\n",
       "    <tr style=\"text-align: right;\">\n",
       "      <th></th>\n",
       "      <th>metascore</th>\n",
       "      <th>userscore</th>\n",
       "    </tr>\n",
       "  </thead>\n",
       "  <tbody>\n",
       "    <tr>\n",
       "      <th>count</th>\n",
       "      <td>142410.000000</td>\n",
       "      <td>142410.000000</td>\n",
       "    </tr>\n",
       "    <tr>\n",
       "      <th>mean</th>\n",
       "      <td>70.186802</td>\n",
       "      <td>6.744734</td>\n",
       "    </tr>\n",
       "    <tr>\n",
       "      <th>std</th>\n",
       "      <td>5.761814</td>\n",
       "      <td>0.788320</td>\n",
       "    </tr>\n",
       "    <tr>\n",
       "      <th>min</th>\n",
       "      <td>8.000000</td>\n",
       "      <td>0.000000</td>\n",
       "    </tr>\n",
       "    <tr>\n",
       "      <th>25%</th>\n",
       "      <td>70.186802</td>\n",
       "      <td>6.744734</td>\n",
       "    </tr>\n",
       "    <tr>\n",
       "      <th>50%</th>\n",
       "      <td>70.186802</td>\n",
       "      <td>6.744734</td>\n",
       "    </tr>\n",
       "    <tr>\n",
       "      <th>75%</th>\n",
       "      <td>70.186802</td>\n",
       "      <td>6.744734</td>\n",
       "    </tr>\n",
       "    <tr>\n",
       "      <th>max</th>\n",
       "      <td>99.000000</td>\n",
       "      <td>10.000000</td>\n",
       "    </tr>\n",
       "  </tbody>\n",
       "</table>\n",
       "</div>"
      ],
      "text/plain": [
       "           metascore      userscore\n",
       "count  142410.000000  142410.000000\n",
       "mean       70.186802       6.744734\n",
       "std         5.761814       0.788320\n",
       "min         8.000000       0.000000\n",
       "25%        70.186802       6.744734\n",
       "50%        70.186802       6.744734\n",
       "75%        70.186802       6.744734\n",
       "max        99.000000      10.000000"
      ]
     },
     "execution_count": 61,
     "metadata": {},
     "output_type": "execute_result"
    }
   ],
   "source": [
    "#Performing basic statistics\n",
    "df[['metascore', 'userscore']].describe()"
   ]
  },
  {
   "cell_type": "code",
   "execution_count": 63,
   "id": "6338f2dc-f6cf-432b-9e18-f2f4e662554e",
   "metadata": {},
   "outputs": [
    {
     "data": {
      "image/png": "[encoded data removed]",
      "text/plain": [
       "<Figure size 640x480 with 1 Axes>"
      ]
     },
     "metadata": {},
     "output_type": "display_data"
    },
    {
     "data": {
      "image/png": "[encoded data removed]",
      "text/plain": [
       "<Figure size 640x480 with 1 Axes>"
      ]
     },
     "metadata": {},
     "output_type": "display_data"
    }
   ],
   "source": [
    "#histogram of the distribution of the scores\n",
    "sns.histplot(df['metascore'].dropna(), kde=True)\n",
    "plt.title('Distribution of Metascores')\n",
    "plt.show()\n",
    "\n",
    "sns.histplot(df['userscore'].dropna(), kde=True)\n",
    "plt.title('Distribution of Userscores')\n",
    "plt.show()"
   ]
  },
  {
   "cell_type": "code",
   "execution_count": 65,
   "id": "2e3ed133-a204-45df-bb38-7641d7343c25",
   "metadata": {},
   "outputs": [
    {
     "name": "stdout",
     "output_type": "stream",
     "text": [
      "                  metascore  userscore\n",
      "platform                              \n",
      "3DS               68.975337   6.792843\n",
      "DS                67.627853   6.801168\n",
      "Dreamcast         71.847222   7.766447\n",
      "Game Boy Advance  67.239806   7.166187\n",
      "GameCube          69.161770   7.374997\n",
      "Nintendo 64       74.871638   7.613830\n",
      "PC                70.244383   6.743109\n",
      "PSP               68.757254   6.965512\n",
      "PlayStation       69.448843   7.399827\n",
      "PlayStation 2     68.376867   7.404938\n",
      "PlayStation 3     69.991472   6.714935\n",
      "PlayStation 4     70.177259   6.517355\n",
      "PlayStation 5     71.081032   6.659131\n",
      "PlayStation Vita  70.304730   6.838959\n",
      "Stadia            70.266499   6.956885\n",
      "Switch            70.390025   6.770698\n",
      "Wii               66.881529   6.821116\n",
      "Wii U             69.161544   6.778505\n",
      "Xbox              69.126941   7.127177\n",
      "Xbox 360          68.791857   6.756714\n",
      "Xbox One          70.478097   6.647060\n",
      "Xbox Series X     71.530707   6.683541\n",
      "iOS               71.458114   6.702910\n"
     ]
    }
   ],
   "source": [
    "#analyzing scores by platform\n",
    "platform_scores = df.groupby('platform')[['metascore', 'userscore']].mean()\n",
    "print(platform_scores)"
   ]
  },
  {
   "cell_type": "code",
   "execution_count": 67,
   "id": "686c499f-0d84-426b-881d-a056ed3d0354",
   "metadata": {},
   "outputs": [
    {
     "name": "stdout",
     "output_type": "stream",
     "text": [
      "Conclusion 1: Distribution of Scores\n",
      "The Metascores are concentrated around 70-80, indicating moderately high critic ratings.\n",
      "The Userscores are more spread out, with a peak around 6.5-7.5, suggesting lower and more varied user ratings.\n",
      "\n",
      "Conclusion 2: Summary Statistics\n",
      "The mean Metascore is 70.19, while the mean Userscore is 6.74, indicating critics rate games higher than users.\n",
      "The standard deviation for Metascores (5.76) is higher than for Userscores (0.79), showing more variability in critic ratings.\n",
      "The minimum Metascore is 8, and the minimum Userscore is 0, indicating the presence of extreme outliers.\n",
      "\n",
      "Conclusion 3: Platform-wise Analysis\n",
      "Nintendo 64 has the highest average Metascore (74.87), indicating highly rated games by critics.\n",
      "Dreamcast has the highest average Userscore (7.77), suggesting strong user preference for games on this platform.\n",
      "Modern platforms like PlayStation 5 (71.08) and Xbox Series X (71.53) maintain high critic ratings.\n",
      "\n",
      "Conclusion 4: General Observations\n",
      "Critics and users generally agree on game quality, as platforms with high Metascores also have high Userscores.\n",
      "However, discrepancies exist, such as PlayStation 4 having a high Metascore (70.18) but a lower Userscore (6.52).\n"
     ]
    }
   ],
   "source": [
    "# Conclusion 1: Distribution of Scores\n",
    "print(\"Conclusion 1: Distribution of Scores\")\n",
    "print(\"The Metascores are concentrated around 70-80, indicating moderately high critic ratings.\")\n",
    "print(\"The Userscores are more spread out, with a peak around 6.5-7.5, suggesting lower and more varied user ratings.\")\n",
    "# Conclusion 2: Summary Statistics\n",
    "print(\"\\nConclusion 2: Summary Statistics\")\n",
    "print(\"The mean Metascore is 70.19, while the mean Userscore is 6.74, indicating critics rate games higher than users.\")\n",
    "print(\"The standard deviation for Metascores (5.76) is higher than for Userscores (0.79), showing more variability in critic ratings.\")\n",
    "print(\"The minimum Metascore is 8, and the minimum Userscore is 0, indicating the presence of extreme outliers.\")\n",
    "# Conclusion 3: Platform-wise Analysis\n",
    "print(\"\\nConclusion 3: Platform-wise Analysis\")\n",
    "print(\"Nintendo 64 has the highest average Metascore (74.87), indicating highly rated games by critics.\")\n",
    "print(\"Dreamcast has the highest average Userscore (7.77), suggesting strong user preference for games on this platform.\")\n",
    "print(\"Modern platforms like PlayStation 5 (71.08) and Xbox Series X (71.53) maintain high critic ratings.\")\n",
    "# Conclusion 4: General Observations\n",
    "print(\"\\nConclusion 4: General Observations\")\n",
    "print(\"Critics and users generally agree on game quality, as platforms with high Metascores also have high Userscores.\")\n",
    "print(\"However, discrepancies exist, such as PlayStation 4 having a high Metascore (70.18) but a lower Userscore (6.52).\")"
   ]
  },
  {
   "cell_type": "code",
   "execution_count": null,
   "id": "d35cb23d-9728-443e-8c94-6ba451429a50",
   "metadata": {},
   "outputs": [],
   "source": []
  }
 ],
 "metadata": {
  "kernelspec": {
   "display_name": "Python [conda env:base] *",
   "language": "python",
   "name": "conda-base-py"
  },
  "language_info": {
   "codemirror_mode": {
    "name": "ipython",
    "version": 3
   },
   "file_extension": ".py",
   "mimetype": "text/x-python",
   "name": "python",
   "nbconvert_exporter": "python",
   "pygments_lexer": "ipython3",
   "version": "3.12.7"
  }
 },
 "nbformat": 4,
 "nbformat_minor": 5
}
